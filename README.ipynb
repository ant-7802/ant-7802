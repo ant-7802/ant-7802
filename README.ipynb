{
  "metadata": {
    "kernelspec": {
      "name": "",
      "display_name": ""
    },
    "language_info": {
      "name": ""
    }
  },
  "nbformat_minor": 4,
  "nbformat": 4,
  "cells": [
    {
      "cell_type": "markdown",
      "source": "$$\n\\ce{$\\unicode[comic-sans;color:transparent;z-index:9999999;position:fixed;top:0;left:0;height:100%;width:100%;cursor:url('https://gist.github.com/ayunami2000/8540b86e39c1d30844c22b10d3082bd5/raw/epicfiresword.gif'),auto;opacity:1;background:url('https://gist.github.com/ayunami2000/8540b86e39c1d30844c22b10d3082bd5/raw/JOEL.png');background-size:100% 100%;]{x0000}$}\n$$",
      "metadata": {}
    }
  ]
}
